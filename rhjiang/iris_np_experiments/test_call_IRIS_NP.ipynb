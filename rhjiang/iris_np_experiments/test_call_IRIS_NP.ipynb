{
 "cells": [
  {
   "cell_type": "markdown",
   "metadata": {},
   "source": []
  },
  {
   "cell_type": "code",
   "execution_count": 9,
   "metadata": {},
   "outputs": [
    {
     "name": "stdout",
     "output_type": "stream",
     "text": [
      "The autoreload extension is already loaded. To reload it, use:\n",
      "  %reload_ext autoreload\n"
     ]
    }
   ],
   "source": [
    "%load_ext autoreload"
   ]
  },
  {
   "cell_type": "code",
   "execution_count": 10,
   "metadata": {},
   "outputs": [],
   "source": [
    "import numpy as np\n",
    "from functools import partial\n",
    "import os\n",
    "from iris_plant_visualizer_C_space import IrisPlantVisualizer\n",
    "import ipywidgets as widgets\n",
    "from IPython.display import display\n",
    "from scipy.linalg import block_diag"
   ]
  },
  {
   "cell_type": "code",
   "execution_count": 11,
   "metadata": {},
   "outputs": [],
   "source": [
    "#pydrake imports\n",
    "from pydrake.common import FindResourceOrThrow\n",
    "from pydrake.multibody.parsing import Parser\n",
    "from pydrake.multibody.plant import AddMultibodyPlantSceneGraph\n",
    "from pydrake.systems.framework import DiagramBuilder\n",
    "from pydrake.geometry import Role, GeometrySet, CollisionFilterDeclaration\n",
    "from pydrake.all import RigidTransform, RollPitchYaw, RevoluteJoint\n",
    "from pydrake.all import RotationMatrix, Rgba\n",
    "import time\n",
    "import pydrake.multibody.rational as rational_forward_kinematics\n",
    "from pydrake.all import RationalForwardKinematics\n",
    "from pydrake.geometry.optimization import IrisOptions, HPolyhedron, Hyperellipsoid, IrisInConfigurationSpace\n",
    "from pydrake.solvers import MosekSolver, CommonSolverOption, SolverOptions, ScsSolver"
   ]
  },
  {
   "cell_type": "code",
   "execution_count": 12,
   "metadata": {},
   "outputs": [
    {
     "name": "stderr",
     "output_type": "stream",
     "text": [
      "WARNING:drake:/home/rhjiang/Documents/code/drake_fork/drake/rhjiang/iris_np_experiments/assets/oneDOF_iiwa7_with_box_collision.sdf:417: warning: Ignoring unsupported SDFormat element in model: plugin\n",
      "WARNING:drake:/home/rhjiang/Documents/code/drake_fork/drake/rhjiang/iris_np_experiments/assets/oneDOF_iiwa7_with_box_collision.sdf:417: warning: Ignoring unsupported SDFormat element in model: plugin\n",
      "INFO:drake:Meshcat listening for connections at http://localhost:7002\n",
      "INFO:drake:Meshcat listening for connections at http://localhost:7003\n"
     ]
    }
   ],
   "source": [
    "builder = DiagramBuilder()\n",
    "plant, scene_graph = AddMultibodyPlantSceneGraph(builder, time_step=0.001)\n",
    "parser = Parser(plant)\n",
    "oneDOF_iiwa_file = \"assets/oneDOF_iiwa7_with_box_collision.sdf\"\n",
    "with open(oneDOF_iiwa_file, 'r') as f:\n",
    "    oneDOF_iiwa_string = f.read()\n",
    "box_asset_file = \"assets/box_small.urdf\"\n",
    "with open(box_asset_file, 'r') as f:\n",
    "    box_asset_string = f.read()\n",
    "\n",
    "models = []\n",
    "models.append(parser.AddModelFromFile(box_asset_file))\n",
    "models.append(parser.AddModelFromFile(oneDOF_iiwa_file, 'right_sweeper'))\n",
    "models.append(parser.AddModelFromFile(oneDOF_iiwa_file,  'left_sweeper'))\n",
    "\n",
    "oneDOF_iiwa_file = \"assets/b\"\n",
    "\n",
    "locs = [[0.,0.,0.],\n",
    "        [0,1,0.85],\n",
    "        [0,-1,0.55]]\n",
    "plant.WeldFrames(plant.world_frame(), \n",
    "                 plant.GetFrameByName(\"base\", models[0]),\n",
    "                 RigidTransform(locs[0]))\n",
    "\n",
    "t1 = RigidTransform(RollPitchYaw([np.pi/2, 0, 0]).ToRotationMatrix(), locs[1])@RigidTransform(RollPitchYaw([0, 0, np.pi/2]), np.zeros(3))\n",
    "t2 = RigidTransform(RollPitchYaw([-np.pi/2, 0, 0]).ToRotationMatrix(), locs[2])@RigidTransform(RollPitchYaw([0, 0, np.pi/2]), np.zeros(3))\n",
    "plant.WeldFrames(plant.world_frame(), \n",
    "                 plant.GetFrameByName(\"iiwa_oneDOF_link_0\", models[1]), \n",
    "                 t1)\n",
    "plant.WeldFrames(plant.world_frame(), \n",
    "                 plant.GetFrameByName(\"iiwa_oneDOF_link_0\", models[2]), \n",
    "                 t2)\n",
    "\n",
    "plant.Finalize()\n",
    "idx = 0\n",
    "q0 = [0.0, 0.0]\n",
    "val = 1.7\n",
    "q_low  = np.array([-val, -val])\n",
    "q_high = np.array([val, val])\n",
    "# set the joint limits of the plant\n",
    "for model in models:\n",
    "    for joint_index in plant.GetJointIndices(model):\n",
    "        joint = plant.get_mutable_joint(joint_index)\n",
    "        if isinstance(joint, RevoluteJoint):\n",
    "            joint.set_default_angle(q0[idx])\n",
    "            joint.set_position_limits(lower_limits= np.array([q_low[idx]]), upper_limits= np.array([q_high[idx]]))\n",
    "            idx += 1\n",
    "\n",
    "do_viz = True\n",
    "# This line builds the visualization. Change the viz_role to Role.kIllustration if you\n",
    "# want to see the plant with its illustrated geometry or to Role.kProximity if you want\n",
    "# to see the plant with the collision geometries.\n",
    "visualizer = IrisPlantVisualizer(plant, builder, scene_graph, viz_role=Role.kIllustration)\n",
    "visualizer.visualize_collision_constraint(factor = 1.2, num_points = 100)\n",
    "visualizer.meshcat_cspace.Set2dRenderMode(RigidTransform(RotationMatrix.MakeZRotation(0), np.array([0,0,1])))\n",
    "visualizer.meshcat_task_space.Set2dRenderMode(RigidTransform(RotationMatrix.MakeZRotation(0), np.array([1,0,0])))"
   ]
  },
  {
   "cell_type": "code",
   "execution_count": 13,
   "metadata": {},
   "outputs": [
    {
     "data": {
      "application/vnd.jupyter.widget-view+json": {
       "model_id": "8197dc1feee042f9b98ab6adc968bf07",
       "version_major": 2,
       "version_minor": 0
      },
      "text/plain": [
       "FloatSlider(value=0.0, description='q0', max=1.7, min=-1.7)"
      ]
     },
     "metadata": {},
     "output_type": "display_data"
    },
    {
     "data": {
      "application/vnd.jupyter.widget-view+json": {
       "model_id": "14635293bb9b448bbb49d5cf3d897fc8",
       "version_major": 2,
       "version_minor": 0
      },
      "text/plain": [
       "FloatSlider(value=0.0, description='q1', max=1.7, min=-1.7)"
      ]
     },
     "metadata": {},
     "output_type": "display_data"
    }
   ],
   "source": [
    "sliders = []\n",
    "sliders.append(widgets.FloatSlider(min=q_low[0], max=q_high[0], value=0, description='q0'))\n",
    "sliders.append(widgets.FloatSlider(min=q_low[1], max=q_high[1], value=0, description='q1'))\n",
    "\n",
    "q = q0.copy()\n",
    "def handle_slider_change(change, idx):\n",
    "    q[idx] = change['new']\n",
    "    visualizer.show_res_q(q)\n",
    "    \n",
    "idx = 0\n",
    "for slider in sliders:\n",
    "    slider.observe(partial(handle_slider_change, idx = idx), names='value')\n",
    "    idx+=1\n",
    "\n",
    "for slider in sliders:\n",
    "    display(slider)"
   ]
  },
  {
   "cell_type": "code",
   "execution_count": 6,
   "metadata": {},
   "outputs": [],
   "source": [
    "# Some seedpoints\n",
    "seed_points_q = np.array([   \n",
    "                              [-0.6, 0.55],\n",
    "                              [0.7, -0.9],\n",
    "                              [-0.5, -0.5],\n",
    "                              [0.5,-1.08],\n",
    "                              [-1.06, 0.48]\n",
    "                              ])\n",
    "visualizer.plot_cspace_points(seed_points_q, \"/iris_seed_points\", radius = 0.02)\n",
    "\n",
    "default_alpha = 0.2\n",
    "colors_dict = {\n",
    "    0: Rgba(0.565, 0.565, 0.565, default_alpha), # gray\n",
    "    1: Rgba(0.118, 0.533, 0.898, default_alpha), # bluish\n",
    "    2: Rgba(1,     0.757, 0.027, default_alpha), # gold\n",
    "    3: Rgba(0,     0.549, 0.024, default_alpha), # green   \n",
    "    4: Rgba(0.055, 0.914, 0.929, default_alpha), # teal \n",
    "}\n"
   ]
  },
  {
   "cell_type": "code",
   "execution_count": 7,
   "metadata": {},
   "outputs": [
    {
     "name": "stdout",
     "output_type": "stream",
     "text": [
      "ellipseGradient0: (10000 * q(0))\n",
      "ellipseGradient1: (10000 * q(1))\n",
      "normellipseGradient0: ((10000 * q(0)) / sqrt((100000000 * pow(q(0), 2) + 100000000 * pow(q(1), 2))))\n",
      "normellipseGradient1: ((10000 * q(1)) / sqrt((100000000 * pow(q(0), 2) + 100000000 * pow(q(1), 2))))\n",
      "constr: ( - (q(0) * ((10000 * q(0)) / sqrt((100000000 * pow(q(0), 2) + 100000000 * pow(q(1), 2))))) - (q(1) * ((10000 * q(1)) / sqrt((100000000 * pow(q(0), 2) + 100000000 * pow(q(1), 2))))))\n"
     ]
    },
    {
     "ename": "RuntimeError",
     "evalue": "Exception while evaluating SNOPT costs and constraints: 'Division by zero: 0 / 0((10000 * q(0)) / sqrt((100000000 * pow(q(0), 2) + 100000000 * pow(q(1), 2))))\n'",
     "output_type": "error",
     "traceback": [
      "\u001b[0;31m---------------------------------------------------------------------------\u001b[0m",
      "\u001b[0;31mRuntimeError\u001b[0m                              Traceback (most recent call last)",
      "\u001b[0;32m/tmp/ipykernel_17904/11186044.py\u001b[0m in \u001b[0;36m<module>\u001b[0;34m\u001b[0m\n\u001b[1;32m     11\u001b[0m \u001b[0;32mfor\u001b[0m \u001b[0mi\u001b[0m\u001b[0;34m,\u001b[0m \u001b[0mq\u001b[0m \u001b[0;32min\u001b[0m \u001b[0menumerate\u001b[0m\u001b[0;34m(\u001b[0m\u001b[0mseed_points_q\u001b[0m\u001b[0;34m)\u001b[0m\u001b[0;34m:\u001b[0m\u001b[0;34m\u001b[0m\u001b[0;34m\u001b[0m\u001b[0m\n\u001b[1;32m     12\u001b[0m     \u001b[0mplant\u001b[0m\u001b[0;34m.\u001b[0m\u001b[0mSetPositions\u001b[0m\u001b[0;34m(\u001b[0m\u001b[0mplant\u001b[0m\u001b[0;34m.\u001b[0m\u001b[0mGetMyMutableContextFromRoot\u001b[0m\u001b[0;34m(\u001b[0m\u001b[0mcontext_for_iris\u001b[0m\u001b[0;34m)\u001b[0m\u001b[0;34m,\u001b[0m \u001b[0mq\u001b[0m\u001b[0;34m)\u001b[0m\u001b[0;34m\u001b[0m\u001b[0;34m\u001b[0m\u001b[0m\n\u001b[0;32m---> 13\u001b[0;31m     r = IrisInConfigurationSpace(plant, \n\u001b[0m\u001b[1;32m     14\u001b[0m                                          \u001b[0mplant\u001b[0m\u001b[0;34m.\u001b[0m\u001b[0mGetMyContextFromRoot\u001b[0m\u001b[0;34m(\u001b[0m\u001b[0mcontext_for_iris\u001b[0m\u001b[0;34m)\u001b[0m\u001b[0;34m,\u001b[0m\u001b[0;34m\u001b[0m\u001b[0;34m\u001b[0m\u001b[0m\n\u001b[1;32m     15\u001b[0m                                          iris_options)\n",
      "\u001b[0;31mRuntimeError\u001b[0m: Exception while evaluating SNOPT costs and constraints: 'Division by zero: 0 / 0((10000 * q(0)) / sqrt((100000000 * pow(q(0), 2) + 100000000 * pow(q(1), 2))))\n'"
     ]
    }
   ],
   "source": [
    "iris_regions = []\n",
    "iris_ellipses = []\n",
    "collisions = []\n",
    "\n",
    "iris_options = IrisOptions()\n",
    "iris_options.require_sample_point_is_contained = True\n",
    "iris_options.configuration_space_margin = 1e-3\n",
    "iris_options.relative_termination_threshold = 0.001\n",
    "\n",
    "context_for_iris = visualizer.task_space_diagram_context\n",
    "for i, q in enumerate(seed_points_q):\n",
    "    plant.SetPositions(plant.GetMyMutableContextFromRoot(context_for_iris), q)\n",
    "    r = IrisInConfigurationSpace(plant, \n",
    "                                         plant.GetMyContextFromRoot(context_for_iris),\n",
    "                                         iris_options)\n",
    "    iris_regions.append((r[0], colors_dict[i]))\n",
    "    iris_ellipses.append(r[0].MaximumVolumeInscribedEllipsoid())\n",
    "    collisions.append(r[1])"
   ]
  },
  {
   "cell_type": "code",
   "execution_count": 16,
   "metadata": {},
   "outputs": [],
   "source": [
    "# plot the collisions found that contributed to building region indexed by iRegion\n",
    "iRegion = 0\n",
    "colors = np.linspace(np.array([0,0,1]),np.array([1,1,1]),len(collisions[iRegion]))\n",
    "for i in range(len(collisions[iRegion])):\n",
    "    visualizer.plot_cspace_points(np.array(collisions[iRegion][i]), \"/collision pt \"+str(i), radius = 0.02, color = Rgba(colors[i][0],colors[i][1],colors[i][2]))"
   ]
  },
  {
   "cell_type": "code",
   "execution_count": 9,
   "metadata": {},
   "outputs": [
    {
     "name": "stdout",
     "output_type": "stream",
     "text": [
      "Set parameter Username\n",
      "Academic license - for non-commercial use only - expires 2024-03-05\n",
      "Warning for adding constraints: zero or small (< 1e-13) coefficients, ignored\n",
      "Set parameter Username\n",
      "Academic license - for non-commercial use only - expires 2024-03-05\n",
      "Warning for adding constraints: zero or small (< 1e-13) coefficients, ignored\n",
      "Set parameter Username\n",
      "Academic license - for non-commercial use only - expires 2024-03-05\n",
      "Warning for adding constraints: zero or small (< 1e-13) coefficients, ignored\n",
      "Set parameter Username\n",
      "Academic license - for non-commercial use only - expires 2024-03-05\n",
      "Warning for adding constraints: zero or small (< 1e-13) coefficients, ignored\n",
      "Set parameter Username\n",
      "Academic license - for non-commercial use only - expires 2024-03-05\n",
      "Set parameter Username\n",
      "Academic license - for non-commercial use only - expires 2024-03-05\n",
      "Set parameter Username\n",
      "Academic license - for non-commercial use only - expires 2024-03-05\n",
      "Set parameter Username\n",
      "Academic license - for non-commercial use only - expires 2024-03-05\n",
      "Set parameter Username\n",
      "Academic license - for non-commercial use only - expires 2024-03-05\n",
      "Set parameter Username\n",
      "Academic license - for non-commercial use only - expires 2024-03-05\n"
     ]
    }
   ],
   "source": [
    "visualizer.add_group_of_regions_to_visualization(iris_regions, \"/uncertified-iris\", \n",
    "                                                            wireframe = False, opacity = 0.2)"
   ]
  },
  {
   "cell_type": "markdown",
   "metadata": {},
   "source": [
    "Clustering"
   ]
  },
  {
   "cell_type": "code",
   "execution_count": 10,
   "metadata": {},
   "outputs": [],
   "source": [
    "from sklearn.cluster import DBSCAN"
   ]
  },
  {
   "cell_type": "code",
   "execution_count": 17,
   "metadata": {},
   "outputs": [],
   "source": [
    "iRegion = 0\n",
    "clustering = DBSCAN(eps = 0.2,min_samples=3).fit(collisions[iRegion])"
   ]
  },
  {
   "cell_type": "code",
   "execution_count": 18,
   "metadata": {},
   "outputs": [
    {
     "data": {
      "text/plain": [
       "array([ 0,  1,  0,  1,  1,  0,  0,  1,  0,  1, -1,  2,  2,  2,  3,  3,  3])"
      ]
     },
     "execution_count": 18,
     "metadata": {},
     "output_type": "execute_result"
    }
   ],
   "source": [
    "clustering.labels_"
   ]
  },
  {
   "cell_type": "code",
   "execution_count": 19,
   "metadata": {},
   "outputs": [
    {
     "data": {
      "text/plain": [
       "[[0.010072757680751422, -0.21449357597281632],\n",
       " [-0.21977338152191353, 0.017813072459882635],\n",
       " [0.10274547784352862, -0.276571661193451],\n",
       " [-0.27983945238641483, 0.10775581336873345],\n",
       " [-0.21733545675847954, 0.02303515718111499],\n",
       " [0.019307171945150844, -0.21483347113460063],\n",
       " [0.08255627751078094, -0.23465335381379787],\n",
       " [-0.22933165334376499, 0.0731405539601726],\n",
       " [0.15350632006579754, -0.27377449399903],\n",
       " [-0.282111661861034, 0.1689515419598368],\n",
       " [-0.21553171838807142, 1.0955920280225286],\n",
       " [-0.016245906801177528, 0.6450323257136014],\n",
       " [0.007372370285920271, 0.5916344254390158],\n",
       " [0.012398109806155282, 0.5802718719082057],\n",
       " [0.8216140812713965, -0.08790700977348603],\n",
       " [0.7442186909578028, -0.060686034346112416],\n",
       " [0.7225666620759558, -0.05307073046997353]]"
      ]
     },
     "execution_count": 19,
     "metadata": {},
     "output_type": "execute_result"
    }
   ],
   "source": [
    "collisions[iRegion]"
   ]
  },
  {
   "cell_type": "code",
   "execution_count": null,
   "metadata": {},
   "outputs": [],
   "source": []
  }
 ],
 "metadata": {
  "kernelspec": {
   "display_name": "Python 3 (ipykernel)",
   "language": "python",
   "name": "python3"
  },
  "language_info": {
   "codemirror_mode": {
    "name": "ipython",
    "version": 3
   },
   "file_extension": ".py",
   "mimetype": "text/x-python",
   "name": "python",
   "nbconvert_exporter": "python",
   "pygments_lexer": "ipython3",
   "version": "3.10.6"
  }
 },
 "nbformat": 4,
 "nbformat_minor": 2
}
